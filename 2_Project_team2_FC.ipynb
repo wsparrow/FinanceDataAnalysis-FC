{
  "nbformat": 4,
  "nbformat_minor": 0,
  "metadata": {
    "colab": {
      "name": "2_Project-team2-FC.ipynb",
      "version": "0.3.2",
      "provenance": [],
      "collapsed_sections": [],
      "include_colab_link": true
    },
    "kernelspec": {
      "name": "python3",
      "display_name": "Python 3"
    }
  },
  "cells": [
    {
      "cell_type": "markdown",
      "metadata": {
        "id": "view-in-github",
        "colab_type": "text"
      },
      "source": [
        "<a href=\"https://colab.research.google.com/github/wsparrow/FinanceDataAnalysis-FC/blob/master/2_Project_team2_FC.ipynb\" target=\"_parent\"><img src=\"https://colab.research.google.com/assets/colab-badge.svg\" alt=\"Open In Colab\"/></a>"
      ]
    },
    {
      "cell_type": "markdown",
      "metadata": {
        "id": "okbiVQwncgEM",
        "colab_type": "text"
      },
      "source": [
        "# Dart 공시발표가 주가에 미치는 영향(실적발표 중심)\n"
      ]
    },
    {
      "cell_type": "code",
      "metadata": {
        "id": "xgyVWjcPc_U0",
        "colab_type": "code",
        "colab": {}
      },
      "source": [
        "import requests\n",
        "import json\n",
        "import pandas as pd\n",
        "from pandas.io.json import json_normalize\n",
        "\n",
        "auth = 'xxx' # 인증키"
      ],
      "execution_count": 0,
      "outputs": []
    },
    {
      "cell_type": "markdown",
      "metadata": {
        "id": "N4STgG2pfIpn",
        "colab_type": "text"
      },
      "source": [
        "##1. 기업개황(예: kakao[035720])\n",
        "- 기업개황 전체"
      ]
    },
    {
      "cell_type": "code",
      "metadata": {
        "id": "ssiFgRVkf2CF",
        "colab_type": "code",
        "colab": {
          "base_uri": "https://localhost:8080/",
          "height": 323
        },
        "outputId": "bead47be-0fe3-48c9-b809-abbfb47aa254"
      },
      "source": [
        "url_tmpl = 'http://dart.fss.or.kr/api/company.json?auth={auth}&crp_cd={code}'\n",
        "url = url_tmpl.format(auth=auth, code='035720')\n",
        "r = requests.get(url)\n",
        "\n",
        "jo = json.loads(r.text)\n",
        "jo"
      ],
      "execution_count": 31,
      "outputs": [
        {
          "output_type": "execute_result",
          "data": {
            "text/plain": [
              "{'acc_mt': '12',\n",
              " 'adr': '제주특별자치도 제주시 첨단로 242',\n",
              " 'bsn_no': '1208147521',\n",
              " 'ceo_nm': '여민수, 조수용',\n",
              " 'crp_cls': 'Y',\n",
              " 'crp_nm': '(주)카카오',\n",
              " 'crp_nm_e': 'Kakao Corp.',\n",
              " 'crp_nm_i': '카카오',\n",
              " 'crp_no': '1101111129497',\n",
              " 'err_code': '000',\n",
              " 'err_msg': '정상',\n",
              " 'est_dt': '19950216',\n",
              " 'fax_no': '02-6003-5401',\n",
              " 'hm_url': 'www.kakaocorp.com',\n",
              " 'ind_cd': '63120',\n",
              " 'ir_url': '',\n",
              " 'phn_no': '02-6718-1082',\n",
              " 'stock_cd': '035720'}"
            ]
          },
          "metadata": {
            "tags": []
          },
          "execution_count": 31
        }
      ]
    },
    {
      "cell_type": "markdown",
      "metadata": {
        "id": "zQttDUzVi6Ry",
        "colab_type": "text"
      },
      "source": [
        "- 사업자등록번호?"
      ]
    },
    {
      "cell_type": "code",
      "metadata": {
        "id": "Zion8tW6gIHI",
        "colab_type": "code",
        "colab": {
          "base_uri": "https://localhost:8080/",
          "height": 34
        },
        "outputId": "c92a6abb-14b9-4421-c9ce-d2488ba787f4"
      },
      "source": [
        "jo['bsn_no'] # bsn_no = 사업자등록번호"
      ],
      "execution_count": 32,
      "outputs": [
        {
          "output_type": "execute_result",
          "data": {
            "text/plain": [
              "'1208147521'"
            ]
          },
          "metadata": {
            "tags": []
          },
          "execution_count": 32
        }
      ]
    },
    {
      "cell_type": "markdown",
      "metadata": {
        "id": "PKn0VBYPhv0u",
        "colab_type": "text"
      },
      "source": [
        "## 2. 정보검색\n",
        "- kakao의 전체 사업+반기+분기보고서 100건"
      ]
    },
    {
      "cell_type": "code",
      "metadata": {
        "id": "8a5VdwRbhaj-",
        "colab_type": "code",
        "colab": {
          "base_uri": "https://localhost:8080/",
          "height": 221
        },
        "outputId": "984cef7e-dcb2-46b4-85bb-194fa0a82a3c"
      },
      "source": [
        "url_tmpl = 'http://dart.fss.or.kr/api/search.json?auth={auth}&crp_cd={code}&start_dt=19990101&bsn_tp=A001&bsn_tp=A002&bsn_tp=A003&page_set=100'\n",
        "url = url_tmpl.format(auth=auth, code='035720')\n",
        "r = requests.get(url)\n",
        "jo = json.loads(r.text)\n",
        "result = json_normalize(jo, 'list')\n",
        "print('총', len(result), '건')\n",
        "result.head()\n"
      ],
      "execution_count": 33,
      "outputs": [
        {
          "output_type": "stream",
          "text": [
            "총 86 건\n"
          ],
          "name": "stdout"
        },
        {
          "output_type": "execute_result",
          "data": {
            "text/html": [
              "<div>\n",
              "<style scoped>\n",
              "    .dataframe tbody tr th:only-of-type {\n",
              "        vertical-align: middle;\n",
              "    }\n",
              "\n",
              "    .dataframe tbody tr th {\n",
              "        vertical-align: top;\n",
              "    }\n",
              "\n",
              "    .dataframe thead th {\n",
              "        text-align: right;\n",
              "    }\n",
              "</style>\n",
              "<table border=\"1\" class=\"dataframe\">\n",
              "  <thead>\n",
              "    <tr style=\"text-align: right;\">\n",
              "      <th></th>\n",
              "      <th>crp_cd</th>\n",
              "      <th>crp_cls</th>\n",
              "      <th>crp_nm</th>\n",
              "      <th>flr_nm</th>\n",
              "      <th>rcp_dt</th>\n",
              "      <th>rcp_no</th>\n",
              "      <th>rmk</th>\n",
              "      <th>rpt_nm</th>\n",
              "    </tr>\n",
              "  </thead>\n",
              "  <tbody>\n",
              "    <tr>\n",
              "      <th>0</th>\n",
              "      <td>035720</td>\n",
              "      <td>Y</td>\n",
              "      <td>카카오</td>\n",
              "      <td>카카오</td>\n",
              "      <td>20190515</td>\n",
              "      <td>20190515002549</td>\n",
              "      <td></td>\n",
              "      <td>분기보고서 (2019.03)</td>\n",
              "    </tr>\n",
              "    <tr>\n",
              "      <th>1</th>\n",
              "      <td>035720</td>\n",
              "      <td>Y</td>\n",
              "      <td>카카오</td>\n",
              "      <td>카카오</td>\n",
              "      <td>20190401</td>\n",
              "      <td>20190401005013</td>\n",
              "      <td>연</td>\n",
              "      <td>사업보고서 (2018.12)</td>\n",
              "    </tr>\n",
              "    <tr>\n",
              "      <th>2</th>\n",
              "      <td>035720</td>\n",
              "      <td>Y</td>\n",
              "      <td>카카오</td>\n",
              "      <td>카카오</td>\n",
              "      <td>20181204</td>\n",
              "      <td>20181204000182</td>\n",
              "      <td></td>\n",
              "      <td>[기재정정]분기보고서 (2018.09)</td>\n",
              "    </tr>\n",
              "    <tr>\n",
              "      <th>3</th>\n",
              "      <td>035720</td>\n",
              "      <td>Y</td>\n",
              "      <td>카카오</td>\n",
              "      <td>카카오</td>\n",
              "      <td>20181204</td>\n",
              "      <td>20181204000180</td>\n",
              "      <td></td>\n",
              "      <td>[기재정정]반기보고서 (2018.06)</td>\n",
              "    </tr>\n",
              "    <tr>\n",
              "      <th>4</th>\n",
              "      <td>035720</td>\n",
              "      <td>Y</td>\n",
              "      <td>카카오</td>\n",
              "      <td>카카오</td>\n",
              "      <td>20181114</td>\n",
              "      <td>20181114002663</td>\n",
              "      <td>정</td>\n",
              "      <td>분기보고서 (2018.09)</td>\n",
              "    </tr>\n",
              "  </tbody>\n",
              "</table>\n",
              "</div>"
            ],
            "text/plain": [
              "   crp_cd crp_cls crp_nm  ...          rcp_no rmk                 rpt_nm\n",
              "0  035720       Y    카카오  ...  20190515002549            분기보고서 (2019.03)\n",
              "1  035720       Y    카카오  ...  20190401005013   연        사업보고서 (2018.12)\n",
              "2  035720       Y    카카오  ...  20181204000182      [기재정정]분기보고서 (2018.09)\n",
              "3  035720       Y    카카오  ...  20181204000180      [기재정정]반기보고서 (2018.06)\n",
              "4  035720       Y    카카오  ...  20181114002663   정        분기보고서 (2018.09)\n",
              "\n",
              "[5 rows x 8 columns]"
            ]
          },
          "metadata": {
            "tags": []
          },
          "execution_count": 33
        }
      ]
    },
    {
      "cell_type": "markdown",
      "metadata": {
        "id": "UqyC-CFCjqmM",
        "colab_type": "text"
      },
      "source": [
        "- 보고서  url"
      ]
    },
    {
      "cell_type": "code",
      "metadata": {
        "id": "4zhRG8Kkh6Sm",
        "colab_type": "code",
        "colab": {
          "base_uri": "https://localhost:8080/",
          "height": 187
        },
        "outputId": "5d978176-e54b-47b5-e291-18694cd3ed8b"
      },
      "source": [
        "df = result[:10] # 처음 10개만\n",
        "\n",
        "for ix, row in df.iterrows():\n",
        "    url_tmpl = \"http://dart.fss.or.kr/dsaf001/main.do?rcpNo={}\"\n",
        "    url = url_tmpl.format(row['rcp_no'])\n",
        "    print (ix, url)"
      ],
      "execution_count": 34,
      "outputs": [
        {
          "output_type": "stream",
          "text": [
            "0 http://dart.fss.or.kr/dsaf001/main.do?rcpNo=20190515002549\n",
            "1 http://dart.fss.or.kr/dsaf001/main.do?rcpNo=20190401005013\n",
            "2 http://dart.fss.or.kr/dsaf001/main.do?rcpNo=20181204000182\n",
            "3 http://dart.fss.or.kr/dsaf001/main.do?rcpNo=20181204000180\n",
            "4 http://dart.fss.or.kr/dsaf001/main.do?rcpNo=20181114002663\n",
            "5 http://dart.fss.or.kr/dsaf001/main.do?rcpNo=20180814002960\n",
            "6 http://dart.fss.or.kr/dsaf001/main.do?rcpNo=20180515002511\n",
            "7 http://dart.fss.or.kr/dsaf001/main.do?rcpNo=20180330002462\n",
            "8 http://dart.fss.or.kr/dsaf001/main.do?rcpNo=20171114002088\n",
            "9 http://dart.fss.or.kr/dsaf001/main.do?rcpNo=20170814002090\n"
          ],
          "name": "stdout"
        }
      ]
    },
    {
      "cell_type": "markdown",
      "metadata": {
        "id": "IpP2ssJniv47",
        "colab_type": "text"
      },
      "source": [
        "## 3. 데이터 추출"
      ]
    },
    {
      "cell_type": "code",
      "metadata": {
        "id": "e8IyJr0SksDq",
        "colab_type": "code",
        "colab": {}
      },
      "source": [
        "import re\n",
        "import urllib\n",
        "from bs4 import BeautifulSoup\n",
        "from datetime import datetime\n",
        "\n",
        "def sub_report_urls(rcp_no):\n",
        "  '''\n",
        "  접수번호(rcp_no)에 해당하는 모든 하위 보고서 URL을 추출하여 리스트로 반환\n",
        "  '''\n",
        "  doc_urls = []\n",
        "  url = \"http://dart.fss.or.kr/dsaf001/main.do?rcpNo=%s\" % (rcp_no)\n",
        "  r = requests.get(url)\n",
        "\n",
        "  multi_page_re = \"{viewDoc\\('(\\d+)', '(\\d+)', '(\\d+)', '(\\d+)', '(\\d+)', '(\\S+)'\\)\\;\"\n",
        "  single_page_re = \"\\t\\tviewDoc\\('(\\d+)', '(\\d+)', '(\\d+)', '(\\d+)', '(\\d+)', '(\\S+)'\\)\\;\"\n",
        "  \n",
        "  matches = re.findall(multi_page_re, r.text)\n",
        "  if len(matches) == 0: \n",
        "    matches = re.findall(single_page_re, r.text)\n",
        "\n",
        "  doc_url_tmpl = \"http://dart.fss.or.kr/report/viewer.do?rcpNo=%s&dcmNo=%s&eleId=%s&offset=%s&length=%s&dtd=%s\" \n",
        "  for m in matches:\n",
        "    url = doc_url_tmpl % m\n",
        "    doc_urls.append(url)\n",
        "  return doc_urls\n",
        "\n",
        "\n",
        "def sub_report_titles(rcp_no):\n",
        "    '''\n",
        "    접수번호(rcp_no)에 해당하는 모든 하위 보고서의 제목 리스트 반환\n",
        "    '''\n",
        "    url = \"http://dart.fss.or.kr/dsaf001/main.do?rcpNo=%s\" % (rcp_no)\n",
        "    r = requests.get(url)\n",
        "    matches = re.findall('text: \\\"(.*)\\\",', r.text)\n",
        "    \n",
        "    doc_titles = matches[1:] # '전체' 제외\n",
        "    if len(doc_titles) == 0: # 1페이지 경우 (본문의 첫 라인)\n",
        "      title = BeautifulSoup(r.text).title.text.strip()\n",
        "      doc_titles = [title]\n",
        "   \n",
        "    return doc_titles"
      ],
      "execution_count": 0,
      "outputs": []
    },
    {
      "cell_type": "code",
      "metadata": {
        "id": "L5LMnblblFcN",
        "colab_type": "code",
        "colab": {
          "base_uri": "https://localhost:8080/",
          "height": 595
        },
        "outputId": "0657d681-2b2d-4ae8-f6ae-e354af331527"
      },
      "source": [
        "doc_urls = sub_report_urls('20190515002549')\n",
        "\n",
        "print('하위보고서 갯수:', len(doc_urls))\n",
        "\n",
        "for url in doc_urls:\n",
        "    print (url)"
      ],
      "execution_count": 38,
      "outputs": [
        {
          "output_type": "stream",
          "text": [
            "하위보고서 갯수: 33\n",
            "http://dart.fss.or.kr/report/viewer.do?rcpNo=20190515002549&dcmNo=6741214&eleId=1&offset=658&length=3918&dtd=dart3.xsd\n",
            "http://dart.fss.or.kr/report/viewer.do?rcpNo=20190515002549&dcmNo=6741214&eleId=2&offset=4656&length=410&dtd=dart3.xsd\n",
            "http://dart.fss.or.kr/report/viewer.do?rcpNo=20190515002549&dcmNo=6741214&eleId=3&offset=5070&length=223612&dtd=dart3.xsd\n",
            "http://dart.fss.or.kr/report/viewer.do?rcpNo=20190515002549&dcmNo=6741214&eleId=4&offset=5160&length=106687&dtd=dart3.xsd\n",
            "http://dart.fss.or.kr/report/viewer.do?rcpNo=20190515002549&dcmNo=6741214&eleId=5&offset=111851&length=44277&dtd=dart3.xsd\n",
            "http://dart.fss.or.kr/report/viewer.do?rcpNo=20190515002549&dcmNo=6741214&eleId=6&offset=156132&length=36620&dtd=dart3.xsd\n",
            "http://dart.fss.or.kr/report/viewer.do?rcpNo=20190515002549&dcmNo=6741214&eleId=7&offset=192756&length=21687&dtd=dart3.xsd\n",
            "http://dart.fss.or.kr/report/viewer.do?rcpNo=20190515002549&dcmNo=6741214&eleId=8&offset=214447&length=5880&dtd=dart3.xsd\n",
            "http://dart.fss.or.kr/report/viewer.do?rcpNo=20190515002549&dcmNo=6741214&eleId=9&offset=220331&length=8337&dtd=dart3.xsd\n",
            "http://dart.fss.or.kr/report/viewer.do?rcpNo=20190515002549&dcmNo=6741214&eleId=10&offset=228686&length=187259&dtd=dart3.xsd\n",
            "http://dart.fss.or.kr/report/viewer.do?rcpNo=20190515002549&dcmNo=6741214&eleId=11&offset=415949&length=1176462&dtd=dart3.xsd\n",
            "http://dart.fss.or.kr/report/viewer.do?rcpNo=20190515002549&dcmNo=6741214&eleId=12&offset=416067&length=26629&dtd=dart3.xsd\n",
            "http://dart.fss.or.kr/report/viewer.do?rcpNo=20190515002549&dcmNo=6741214&eleId=13&offset=442941&length=76613&dtd=dart3.xsd\n",
            "http://dart.fss.or.kr/report/viewer.do?rcpNo=20190515002549&dcmNo=6741214&eleId=14&offset=519558&length=461318&dtd=dart3.xsd\n",
            "http://dart.fss.or.kr/report/viewer.do?rcpNo=20190515002549&dcmNo=6741214&eleId=15&offset=980880&length=58100&dtd=dart3.xsd\n",
            "http://dart.fss.or.kr/report/viewer.do?rcpNo=20190515002549&dcmNo=6741214&eleId=16&offset=1038984&length=448883&dtd=dart3.xsd\n",
            "http://dart.fss.or.kr/report/viewer.do?rcpNo=20190515002549&dcmNo=6741214&eleId=17&offset=1487897&length=104500&dtd=dart3.xsd\n",
            "http://dart.fss.or.kr/report/viewer.do?rcpNo=20190515002549&dcmNo=6741214&eleId=18&offset=1592415&length=235&dtd=dart3.xsd\n",
            "http://dart.fss.or.kr/report/viewer.do?rcpNo=20190515002549&dcmNo=6741214&eleId=19&offset=1592654&length=11345&dtd=dart3.xsd\n",
            "http://dart.fss.or.kr/report/viewer.do?rcpNo=20190515002549&dcmNo=6741214&eleId=20&offset=1604003&length=40351&dtd=dart3.xsd\n",
            "http://dart.fss.or.kr/report/viewer.do?rcpNo=20190515002549&dcmNo=6741214&eleId=21&offset=1604129&length=22191&dtd=dart3.xsd\n",
            "http://dart.fss.or.kr/report/viewer.do?rcpNo=20190515002549&dcmNo=6741214&eleId=22&offset=1626324&length=17209&dtd=dart3.xsd\n",
            "http://dart.fss.or.kr/report/viewer.do?rcpNo=20190515002549&dcmNo=6741214&eleId=23&offset=1643537&length=803&dtd=dart3.xsd\n",
            "http://dart.fss.or.kr/report/viewer.do?rcpNo=20190515002549&dcmNo=6741214&eleId=24&offset=1644358&length=42033&dtd=dart3.xsd\n",
            "http://dart.fss.or.kr/report/viewer.do?rcpNo=20190515002549&dcmNo=6741214&eleId=25&offset=1686395&length=42900&dtd=dart3.xsd\n",
            "http://dart.fss.or.kr/report/viewer.do?rcpNo=20190515002549&dcmNo=6741214&eleId=26&offset=1686498&length=24971&dtd=dart3.xsd\n",
            "http://dart.fss.or.kr/report/viewer.do?rcpNo=20190515002549&dcmNo=6741214&eleId=27&offset=1711473&length=17808&dtd=dart3.xsd\n",
            "http://dart.fss.or.kr/report/viewer.do?rcpNo=20190515002549&dcmNo=6741214&eleId=28&offset=1729299&length=231462&dtd=dart3.xsd\n",
            "http://dart.fss.or.kr/report/viewer.do?rcpNo=20190515002549&dcmNo=6741214&eleId=29&offset=1960765&length=76055&dtd=dart3.xsd\n",
            "http://dart.fss.or.kr/report/viewer.do?rcpNo=20190515002549&dcmNo=6741214&eleId=30&offset=2036824&length=52302&dtd=dart3.xsd\n",
            "http://dart.fss.or.kr/report/viewer.do?rcpNo=20190515002549&dcmNo=6741214&eleId=31&offset=2089130&length=337&dtd=dart3.xsd\n",
            "http://dart.fss.or.kr/report/viewer.do?rcpNo=20190515002549&dcmNo=6741214&eleId=32&offset=2089222&length=112&dtd=dart3.xsd\n",
            "http://dart.fss.or.kr/report/viewer.do?rcpNo=20190515002549&dcmNo=6741214&eleId=33&offset=2089338&length=115&dtd=dart3.xsd\n"
          ],
          "name": "stdout"
        }
      ]
    },
    {
      "cell_type": "code",
      "metadata": {
        "id": "qHcX0JSplKVy",
        "colab_type": "code",
        "colab": {}
      },
      "source": [
        ""
      ],
      "execution_count": 0,
      "outputs": []
    }
  ]
}
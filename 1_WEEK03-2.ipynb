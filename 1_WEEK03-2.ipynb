{
  "nbformat": 4,
  "nbformat_minor": 0,
  "metadata": {
    "colab": {
      "name": "WEEK03-2.ipynb",
      "version": "0.3.2",
      "provenance": []
    },
    "kernelspec": {
      "name": "python3",
      "display_name": "Python 3"
    }
  },
  "cells": [
    {
      "cell_type": "markdown",
      "metadata": {
        "id": "QXJ9nX1TPW3L",
        "colab_type": "text"
      },
      "source": [
        "# 2. Moving Average & Signal"
      ]
    },
    {
      "cell_type": "code",
      "metadata": {
        "id": "RVmnrapnPlNK",
        "colab_type": "code",
        "colab": {}
      },
      "source": [
        "import matplotlib.pyplot as plt\n",
        "import matplotlib\n",
        "\n",
        "matplotlib.rc('figure', figsize=(16, 4))"
      ],
      "execution_count": 0,
      "outputs": []
    },
    {
      "cell_type": "code",
      "metadata": {
        "id": "fUz2TGJnQPpW",
        "colab_type": "code",
        "colab": {}
      },
      "source": [
        "!pip install -q finance-datareader"
      ],
      "execution_count": 0,
      "outputs": []
    },
    {
      "cell_type": "code",
      "metadata": {
        "id": "Dy_AKCA7Pt0x",
        "colab_type": "code",
        "colab": {}
      },
      "source": [
        "import datetime\n",
        "import pandas as pd\n",
        "import FinanceDataReader as fdr"
      ],
      "execution_count": 0,
      "outputs": []
    },
    {
      "cell_type": "markdown",
      "metadata": {
        "id": "OMKohBC1QZZN",
        "colab_type": "text"
      },
      "source": [
        "## Pandas Moving Average\n",
        "* pandas.stats.rolling_mean()"
      ]
    },
    {
      "cell_type": "code",
      "metadata": {
        "id": "5BjbZAnoQhTx",
        "colab_type": "code",
        "outputId": "6f464dc7-9ec6-45eb-aeef-56c0bc532958",
        "colab": {
          "base_uri": "https://localhost:8080/",
          "height": 235
        }
      },
      "source": [
        "# Kakao(035720)\n",
        "df_kakao = fdr.DataReader(\"035720\", '2019-01-01', '2019-06-30')\n",
        "df_kakao.head()"
      ],
      "execution_count": 0,
      "outputs": [
        {
          "output_type": "execute_result",
          "data": {
            "text/html": [
              "<div>\n",
              "<style scoped>\n",
              "    .dataframe tbody tr th:only-of-type {\n",
              "        vertical-align: middle;\n",
              "    }\n",
              "\n",
              "    .dataframe tbody tr th {\n",
              "        vertical-align: top;\n",
              "    }\n",
              "\n",
              "    .dataframe thead th {\n",
              "        text-align: right;\n",
              "    }\n",
              "</style>\n",
              "<table border=\"1\" class=\"dataframe\">\n",
              "  <thead>\n",
              "    <tr style=\"text-align: right;\">\n",
              "      <th></th>\n",
              "      <th>Open</th>\n",
              "      <th>High</th>\n",
              "      <th>Low</th>\n",
              "      <th>Close</th>\n",
              "      <th>Volume</th>\n",
              "      <th>Change</th>\n",
              "    </tr>\n",
              "    <tr>\n",
              "      <th>Date</th>\n",
              "      <th></th>\n",
              "      <th></th>\n",
              "      <th></th>\n",
              "      <th></th>\n",
              "      <th></th>\n",
              "      <th></th>\n",
              "    </tr>\n",
              "  </thead>\n",
              "  <tbody>\n",
              "    <tr>\n",
              "      <th>2019-01-02</th>\n",
              "      <td>103500</td>\n",
              "      <td>105000</td>\n",
              "      <td>101500</td>\n",
              "      <td>102000</td>\n",
              "      <td>173462</td>\n",
              "      <td>-0.009709</td>\n",
              "    </tr>\n",
              "    <tr>\n",
              "      <th>2019-01-03</th>\n",
              "      <td>102500</td>\n",
              "      <td>105500</td>\n",
              "      <td>100500</td>\n",
              "      <td>102500</td>\n",
              "      <td>293989</td>\n",
              "      <td>0.004902</td>\n",
              "    </tr>\n",
              "    <tr>\n",
              "      <th>2019-01-04</th>\n",
              "      <td>102000</td>\n",
              "      <td>104000</td>\n",
              "      <td>101500</td>\n",
              "      <td>103500</td>\n",
              "      <td>251728</td>\n",
              "      <td>0.009756</td>\n",
              "    </tr>\n",
              "    <tr>\n",
              "      <th>2019-01-07</th>\n",
              "      <td>105000</td>\n",
              "      <td>107000</td>\n",
              "      <td>102000</td>\n",
              "      <td>103000</td>\n",
              "      <td>378153</td>\n",
              "      <td>-0.004831</td>\n",
              "    </tr>\n",
              "    <tr>\n",
              "      <th>2019-01-08</th>\n",
              "      <td>102500</td>\n",
              "      <td>103000</td>\n",
              "      <td>99500</td>\n",
              "      <td>99900</td>\n",
              "      <td>450462</td>\n",
              "      <td>-0.030097</td>\n",
              "    </tr>\n",
              "  </tbody>\n",
              "</table>\n",
              "</div>"
            ],
            "text/plain": [
              "              Open    High     Low   Close  Volume    Change\n",
              "Date                                                        \n",
              "2019-01-02  103500  105000  101500  102000  173462 -0.009709\n",
              "2019-01-03  102500  105500  100500  102500  293989  0.004902\n",
              "2019-01-04  102000  104000  101500  103500  251728  0.009756\n",
              "2019-01-07  105000  107000  102000  103000  378153 -0.004831\n",
              "2019-01-08  102500  103000   99500   99900  450462 -0.030097"
            ]
          },
          "metadata": {
            "tags": []
          },
          "execution_count": 28
        }
      ]
    },
    {
      "cell_type": "code",
      "metadata": {
        "id": "z5sXkCORQ3Sz",
        "colab_type": "code",
        "outputId": "d7d6e247-397f-4b73-da10-dab7cffcf073",
        "colab": {
          "base_uri": "https://localhost:8080/",
          "height": 235
        }
      },
      "source": [
        "df_kakao['% Change'] = df_kakao['Close'].pct_change() # pct_change : percent profit rate\n",
        "df_kakao.head()"
      ],
      "execution_count": 0,
      "outputs": [
        {
          "output_type": "execute_result",
          "data": {
            "text/html": [
              "<div>\n",
              "<style scoped>\n",
              "    .dataframe tbody tr th:only-of-type {\n",
              "        vertical-align: middle;\n",
              "    }\n",
              "\n",
              "    .dataframe tbody tr th {\n",
              "        vertical-align: top;\n",
              "    }\n",
              "\n",
              "    .dataframe thead th {\n",
              "        text-align: right;\n",
              "    }\n",
              "</style>\n",
              "<table border=\"1\" class=\"dataframe\">\n",
              "  <thead>\n",
              "    <tr style=\"text-align: right;\">\n",
              "      <th></th>\n",
              "      <th>Open</th>\n",
              "      <th>High</th>\n",
              "      <th>Low</th>\n",
              "      <th>Close</th>\n",
              "      <th>Volume</th>\n",
              "      <th>Change</th>\n",
              "      <th>% Change</th>\n",
              "    </tr>\n",
              "    <tr>\n",
              "      <th>Date</th>\n",
              "      <th></th>\n",
              "      <th></th>\n",
              "      <th></th>\n",
              "      <th></th>\n",
              "      <th></th>\n",
              "      <th></th>\n",
              "      <th></th>\n",
              "    </tr>\n",
              "  </thead>\n",
              "  <tbody>\n",
              "    <tr>\n",
              "      <th>2019-01-02</th>\n",
              "      <td>103500</td>\n",
              "      <td>105000</td>\n",
              "      <td>101500</td>\n",
              "      <td>102000</td>\n",
              "      <td>173462</td>\n",
              "      <td>-0.009709</td>\n",
              "      <td>NaN</td>\n",
              "    </tr>\n",
              "    <tr>\n",
              "      <th>2019-01-03</th>\n",
              "      <td>102500</td>\n",
              "      <td>105500</td>\n",
              "      <td>100500</td>\n",
              "      <td>102500</td>\n",
              "      <td>293989</td>\n",
              "      <td>0.004902</td>\n",
              "      <td>0.004902</td>\n",
              "    </tr>\n",
              "    <tr>\n",
              "      <th>2019-01-04</th>\n",
              "      <td>102000</td>\n",
              "      <td>104000</td>\n",
              "      <td>101500</td>\n",
              "      <td>103500</td>\n",
              "      <td>251728</td>\n",
              "      <td>0.009756</td>\n",
              "      <td>0.009756</td>\n",
              "    </tr>\n",
              "    <tr>\n",
              "      <th>2019-01-07</th>\n",
              "      <td>105000</td>\n",
              "      <td>107000</td>\n",
              "      <td>102000</td>\n",
              "      <td>103000</td>\n",
              "      <td>378153</td>\n",
              "      <td>-0.004831</td>\n",
              "      <td>-0.004831</td>\n",
              "    </tr>\n",
              "    <tr>\n",
              "      <th>2019-01-08</th>\n",
              "      <td>102500</td>\n",
              "      <td>103000</td>\n",
              "      <td>99500</td>\n",
              "      <td>99900</td>\n",
              "      <td>450462</td>\n",
              "      <td>-0.030097</td>\n",
              "      <td>-0.030097</td>\n",
              "    </tr>\n",
              "  </tbody>\n",
              "</table>\n",
              "</div>"
            ],
            "text/plain": [
              "              Open    High     Low   Close  Volume    Change  % Change\n",
              "Date                                                                  \n",
              "2019-01-02  103500  105000  101500  102000  173462 -0.009709       NaN\n",
              "2019-01-03  102500  105500  100500  102500  293989  0.004902  0.004902\n",
              "2019-01-04  102000  104000  101500  103500  251728  0.009756  0.009756\n",
              "2019-01-07  105000  107000  102000  103000  378153 -0.004831 -0.004831\n",
              "2019-01-08  102500  103000   99500   99900  450462 -0.030097 -0.030097"
            ]
          },
          "metadata": {
            "tags": []
          },
          "execution_count": 29
        }
      ]
    },
    {
      "cell_type": "code",
      "metadata": {
        "id": "19LyGgTtRZCX",
        "colab_type": "code",
        "outputId": "db905af1-4c62-4fdc-c170-27144d32c115",
        "colab": {
          "base_uri": "https://localhost:8080/",
          "height": 235
        }
      },
      "source": [
        "df_kakao.shift(1).head() # moving below 1"
      ],
      "execution_count": 0,
      "outputs": [
        {
          "output_type": "execute_result",
          "data": {
            "text/html": [
              "<div>\n",
              "<style scoped>\n",
              "    .dataframe tbody tr th:only-of-type {\n",
              "        vertical-align: middle;\n",
              "    }\n",
              "\n",
              "    .dataframe tbody tr th {\n",
              "        vertical-align: top;\n",
              "    }\n",
              "\n",
              "    .dataframe thead th {\n",
              "        text-align: right;\n",
              "    }\n",
              "</style>\n",
              "<table border=\"1\" class=\"dataframe\">\n",
              "  <thead>\n",
              "    <tr style=\"text-align: right;\">\n",
              "      <th></th>\n",
              "      <th>Open</th>\n",
              "      <th>High</th>\n",
              "      <th>Low</th>\n",
              "      <th>Close</th>\n",
              "      <th>Volume</th>\n",
              "      <th>Change</th>\n",
              "      <th>% Change</th>\n",
              "    </tr>\n",
              "    <tr>\n",
              "      <th>Date</th>\n",
              "      <th></th>\n",
              "      <th></th>\n",
              "      <th></th>\n",
              "      <th></th>\n",
              "      <th></th>\n",
              "      <th></th>\n",
              "      <th></th>\n",
              "    </tr>\n",
              "  </thead>\n",
              "  <tbody>\n",
              "    <tr>\n",
              "      <th>2019-01-02</th>\n",
              "      <td>NaN</td>\n",
              "      <td>NaN</td>\n",
              "      <td>NaN</td>\n",
              "      <td>NaN</td>\n",
              "      <td>NaN</td>\n",
              "      <td>NaN</td>\n",
              "      <td>NaN</td>\n",
              "    </tr>\n",
              "    <tr>\n",
              "      <th>2019-01-03</th>\n",
              "      <td>103500.0</td>\n",
              "      <td>105000.0</td>\n",
              "      <td>101500.0</td>\n",
              "      <td>102000.0</td>\n",
              "      <td>173462.0</td>\n",
              "      <td>-0.009709</td>\n",
              "      <td>NaN</td>\n",
              "    </tr>\n",
              "    <tr>\n",
              "      <th>2019-01-04</th>\n",
              "      <td>102500.0</td>\n",
              "      <td>105500.0</td>\n",
              "      <td>100500.0</td>\n",
              "      <td>102500.0</td>\n",
              "      <td>293989.0</td>\n",
              "      <td>0.004902</td>\n",
              "      <td>0.004902</td>\n",
              "    </tr>\n",
              "    <tr>\n",
              "      <th>2019-01-07</th>\n",
              "      <td>102000.0</td>\n",
              "      <td>104000.0</td>\n",
              "      <td>101500.0</td>\n",
              "      <td>103500.0</td>\n",
              "      <td>251728.0</td>\n",
              "      <td>0.009756</td>\n",
              "      <td>0.009756</td>\n",
              "    </tr>\n",
              "    <tr>\n",
              "      <th>2019-01-08</th>\n",
              "      <td>105000.0</td>\n",
              "      <td>107000.0</td>\n",
              "      <td>102000.0</td>\n",
              "      <td>103000.0</td>\n",
              "      <td>378153.0</td>\n",
              "      <td>-0.004831</td>\n",
              "      <td>-0.004831</td>\n",
              "    </tr>\n",
              "  </tbody>\n",
              "</table>\n",
              "</div>"
            ],
            "text/plain": [
              "                Open      High       Low  ...    Volume    Change  % Change\n",
              "Date                                      ...                              \n",
              "2019-01-02       NaN       NaN       NaN  ...       NaN       NaN       NaN\n",
              "2019-01-03  103500.0  105000.0  101500.0  ...  173462.0 -0.009709       NaN\n",
              "2019-01-04  102500.0  105500.0  100500.0  ...  293989.0  0.004902  0.004902\n",
              "2019-01-07  102000.0  104000.0  101500.0  ...  251728.0  0.009756  0.009756\n",
              "2019-01-08  105000.0  107000.0  102000.0  ...  378153.0 -0.004831 -0.004831\n",
              "\n",
              "[5 rows x 7 columns]"
            ]
          },
          "metadata": {
            "tags": []
          },
          "execution_count": 15
        }
      ]
    },
    {
      "cell_type": "code",
      "metadata": {
        "id": "rF5XMtm2r_eF",
        "colab_type": "code",
        "outputId": "aa2b5304-bedb-4e46-c13d-8d768a68f8ed",
        "colab": {
          "base_uri": "https://localhost:8080/",
          "height": 235
        }
      },
      "source": [
        "df_kakao['p_Close'] = df_kakao['Close'].shift(1) # p_Close : previous Close\n",
        "df_kakao.head()"
      ],
      "execution_count": 0,
      "outputs": [
        {
          "output_type": "execute_result",
          "data": {
            "text/html": [
              "<div>\n",
              "<style scoped>\n",
              "    .dataframe tbody tr th:only-of-type {\n",
              "        vertical-align: middle;\n",
              "    }\n",
              "\n",
              "    .dataframe tbody tr th {\n",
              "        vertical-align: top;\n",
              "    }\n",
              "\n",
              "    .dataframe thead th {\n",
              "        text-align: right;\n",
              "    }\n",
              "</style>\n",
              "<table border=\"1\" class=\"dataframe\">\n",
              "  <thead>\n",
              "    <tr style=\"text-align: right;\">\n",
              "      <th></th>\n",
              "      <th>Open</th>\n",
              "      <th>High</th>\n",
              "      <th>Low</th>\n",
              "      <th>Close</th>\n",
              "      <th>Volume</th>\n",
              "      <th>Change</th>\n",
              "      <th>% Change</th>\n",
              "      <th>p_Close</th>\n",
              "    </tr>\n",
              "    <tr>\n",
              "      <th>Date</th>\n",
              "      <th></th>\n",
              "      <th></th>\n",
              "      <th></th>\n",
              "      <th></th>\n",
              "      <th></th>\n",
              "      <th></th>\n",
              "      <th></th>\n",
              "      <th></th>\n",
              "    </tr>\n",
              "  </thead>\n",
              "  <tbody>\n",
              "    <tr>\n",
              "      <th>2019-01-02</th>\n",
              "      <td>103500</td>\n",
              "      <td>105000</td>\n",
              "      <td>101500</td>\n",
              "      <td>102000</td>\n",
              "      <td>173462</td>\n",
              "      <td>-0.009709</td>\n",
              "      <td>NaN</td>\n",
              "      <td>NaN</td>\n",
              "    </tr>\n",
              "    <tr>\n",
              "      <th>2019-01-03</th>\n",
              "      <td>102500</td>\n",
              "      <td>105500</td>\n",
              "      <td>100500</td>\n",
              "      <td>102500</td>\n",
              "      <td>293989</td>\n",
              "      <td>0.004902</td>\n",
              "      <td>0.004902</td>\n",
              "      <td>102000.0</td>\n",
              "    </tr>\n",
              "    <tr>\n",
              "      <th>2019-01-04</th>\n",
              "      <td>102000</td>\n",
              "      <td>104000</td>\n",
              "      <td>101500</td>\n",
              "      <td>103500</td>\n",
              "      <td>251728</td>\n",
              "      <td>0.009756</td>\n",
              "      <td>0.009756</td>\n",
              "      <td>102500.0</td>\n",
              "    </tr>\n",
              "    <tr>\n",
              "      <th>2019-01-07</th>\n",
              "      <td>105000</td>\n",
              "      <td>107000</td>\n",
              "      <td>102000</td>\n",
              "      <td>103000</td>\n",
              "      <td>378153</td>\n",
              "      <td>-0.004831</td>\n",
              "      <td>-0.004831</td>\n",
              "      <td>103500.0</td>\n",
              "    </tr>\n",
              "    <tr>\n",
              "      <th>2019-01-08</th>\n",
              "      <td>102500</td>\n",
              "      <td>103000</td>\n",
              "      <td>99500</td>\n",
              "      <td>99900</td>\n",
              "      <td>450462</td>\n",
              "      <td>-0.030097</td>\n",
              "      <td>-0.030097</td>\n",
              "      <td>103000.0</td>\n",
              "    </tr>\n",
              "  </tbody>\n",
              "</table>\n",
              "</div>"
            ],
            "text/plain": [
              "              Open    High     Low  ...    Change  % Change   p_Close\n",
              "Date                                ...                              \n",
              "2019-01-02  103500  105000  101500  ... -0.009709       NaN       NaN\n",
              "2019-01-03  102500  105500  100500  ...  0.004902  0.004902  102000.0\n",
              "2019-01-04  102000  104000  101500  ...  0.009756  0.009756  102500.0\n",
              "2019-01-07  105000  107000  102000  ... -0.004831 -0.004831  103500.0\n",
              "2019-01-08  102500  103000   99500  ... -0.030097 -0.030097  103000.0\n",
              "\n",
              "[5 rows x 8 columns]"
            ]
          },
          "metadata": {
            "tags": []
          },
          "execution_count": 30
        }
      ]
    },
    {
      "cell_type": "code",
      "metadata": {
        "id": "mVN3_5nFsWLO",
        "colab_type": "code",
        "outputId": "f7f36565-cab2-4ad0-cbc5-0d5681ab4d79",
        "colab": {
          "base_uri": "https://localhost:8080/",
          "height": 235
        }
      },
      "source": [
        "import numpy as np\n",
        "\n",
        "df_kakao['L_Profit'] = np.log(df_kakao['Close'] / df_kakao['p_Close']) # L_Profit : Log Profit Rate\n",
        "df_kakao.head()"
      ],
      "execution_count": 0,
      "outputs": [
        {
          "output_type": "execute_result",
          "data": {
            "text/html": [
              "<div>\n",
              "<style scoped>\n",
              "    .dataframe tbody tr th:only-of-type {\n",
              "        vertical-align: middle;\n",
              "    }\n",
              "\n",
              "    .dataframe tbody tr th {\n",
              "        vertical-align: top;\n",
              "    }\n",
              "\n",
              "    .dataframe thead th {\n",
              "        text-align: right;\n",
              "    }\n",
              "</style>\n",
              "<table border=\"1\" class=\"dataframe\">\n",
              "  <thead>\n",
              "    <tr style=\"text-align: right;\">\n",
              "      <th></th>\n",
              "      <th>Open</th>\n",
              "      <th>High</th>\n",
              "      <th>Low</th>\n",
              "      <th>Close</th>\n",
              "      <th>Volume</th>\n",
              "      <th>Change</th>\n",
              "      <th>% Change</th>\n",
              "      <th>p_Close</th>\n",
              "      <th>L_Profit</th>\n",
              "    </tr>\n",
              "    <tr>\n",
              "      <th>Date</th>\n",
              "      <th></th>\n",
              "      <th></th>\n",
              "      <th></th>\n",
              "      <th></th>\n",
              "      <th></th>\n",
              "      <th></th>\n",
              "      <th></th>\n",
              "      <th></th>\n",
              "      <th></th>\n",
              "    </tr>\n",
              "  </thead>\n",
              "  <tbody>\n",
              "    <tr>\n",
              "      <th>2019-01-02</th>\n",
              "      <td>103500</td>\n",
              "      <td>105000</td>\n",
              "      <td>101500</td>\n",
              "      <td>102000</td>\n",
              "      <td>173462</td>\n",
              "      <td>-0.009709</td>\n",
              "      <td>NaN</td>\n",
              "      <td>NaN</td>\n",
              "      <td>NaN</td>\n",
              "    </tr>\n",
              "    <tr>\n",
              "      <th>2019-01-03</th>\n",
              "      <td>102500</td>\n",
              "      <td>105500</td>\n",
              "      <td>100500</td>\n",
              "      <td>102500</td>\n",
              "      <td>293989</td>\n",
              "      <td>0.004902</td>\n",
              "      <td>0.004902</td>\n",
              "      <td>102000.0</td>\n",
              "      <td>0.004890</td>\n",
              "    </tr>\n",
              "    <tr>\n",
              "      <th>2019-01-04</th>\n",
              "      <td>102000</td>\n",
              "      <td>104000</td>\n",
              "      <td>101500</td>\n",
              "      <td>103500</td>\n",
              "      <td>251728</td>\n",
              "      <td>0.009756</td>\n",
              "      <td>0.009756</td>\n",
              "      <td>102500.0</td>\n",
              "      <td>0.009709</td>\n",
              "    </tr>\n",
              "    <tr>\n",
              "      <th>2019-01-07</th>\n",
              "      <td>105000</td>\n",
              "      <td>107000</td>\n",
              "      <td>102000</td>\n",
              "      <td>103000</td>\n",
              "      <td>378153</td>\n",
              "      <td>-0.004831</td>\n",
              "      <td>-0.004831</td>\n",
              "      <td>103500.0</td>\n",
              "      <td>-0.004843</td>\n",
              "    </tr>\n",
              "    <tr>\n",
              "      <th>2019-01-08</th>\n",
              "      <td>102500</td>\n",
              "      <td>103000</td>\n",
              "      <td>99500</td>\n",
              "      <td>99900</td>\n",
              "      <td>450462</td>\n",
              "      <td>-0.030097</td>\n",
              "      <td>-0.030097</td>\n",
              "      <td>103000.0</td>\n",
              "      <td>-0.030559</td>\n",
              "    </tr>\n",
              "  </tbody>\n",
              "</table>\n",
              "</div>"
            ],
            "text/plain": [
              "              Open    High     Low  ...  % Change   p_Close  L_Profit\n",
              "Date                                ...                              \n",
              "2019-01-02  103500  105000  101500  ...       NaN       NaN       NaN\n",
              "2019-01-03  102500  105500  100500  ...  0.004902  102000.0  0.004890\n",
              "2019-01-04  102000  104000  101500  ...  0.009756  102500.0  0.009709\n",
              "2019-01-07  105000  107000  102000  ... -0.004831  103500.0 -0.004843\n",
              "2019-01-08  102500  103000   99500  ... -0.030097  103000.0 -0.030559\n",
              "\n",
              "[5 rows x 9 columns]"
            ]
          },
          "metadata": {
            "tags": []
          },
          "execution_count": 31
        }
      ]
    },
    {
      "cell_type": "code",
      "metadata": {
        "id": "46Qo-IIbsy-B",
        "colab_type": "code",
        "outputId": "b5e46ad0-61ff-4a63-cfaf-90c93cba2043",
        "colab": {
          "base_uri": "https://localhost:8080/",
          "height": 298
        }
      },
      "source": [
        "df_kakao['L_Profit'].cumsum().plot()"
      ],
      "execution_count": 0,
      "outputs": [
        {
          "output_type": "execute_result",
          "data": {
            "text/plain": [
              "<matplotlib.axes._subplots.AxesSubplot at 0x7faf2d219f28>"
            ]
          },
          "metadata": {
            "tags": []
          },
          "execution_count": 33
        },
        {
          "output_type": "display_data",
          "data": {
            "image/png": "[encoded data removed]",
            "text/plain": [
              "<Figure size 1152x288 with 1 Axes>"
            ]
          },
          "metadata": {
            "tags": []
          }
        }
      ]
    },
    {
      "cell_type": "code",
      "metadata": {
        "id": "VCVK4EQFtbtS",
        "colab_type": "code",
        "outputId": "3355bbb9-0a3f-4d32-f78f-7ad147212941",
        "colab": {
          "base_uri": "https://localhost:8080/",
          "height": 700
        }
      },
      "source": [
        "df_kakao['MA_5'] = df_kakao['Close'].rolling(center=False, window=5).mean()\n",
        "df_kakao['MA_20'] = df_kakao['Close'].rolling(center=False, window=20).mean()\n",
        "df_kakao['diff'] = df_kakao['MA_5'] - df_kakao['MA_20']\n",
        "\n",
        "df_kakao = df_kakao[['Volume', 'Close', 'MA_5', 'MA_20', 'diff']]\n",
        "df_kakao.head(20)"
      ],
      "execution_count": 0,
      "outputs": [
        {
          "output_type": "execute_result",
          "data": {
            "text/html": [
              "<div>\n",
              "<style scoped>\n",
              "    .dataframe tbody tr th:only-of-type {\n",
              "        vertical-align: middle;\n",
              "    }\n",
              "\n",
              "    .dataframe tbody tr th {\n",
              "        vertical-align: top;\n",
              "    }\n",
              "\n",
              "    .dataframe thead th {\n",
              "        text-align: right;\n",
              "    }\n",
              "</style>\n",
              "<table border=\"1\" class=\"dataframe\">\n",
              "  <thead>\n",
              "    <tr style=\"text-align: right;\">\n",
              "      <th></th>\n",
              "      <th>Volume</th>\n",
              "      <th>Close</th>\n",
              "      <th>MA_5</th>\n",
              "      <th>MA_20</th>\n",
              "      <th>diff</th>\n",
              "    </tr>\n",
              "    <tr>\n",
              "      <th>Date</th>\n",
              "      <th></th>\n",
              "      <th></th>\n",
              "      <th></th>\n",
              "      <th></th>\n",
              "      <th></th>\n",
              "    </tr>\n",
              "  </thead>\n",
              "  <tbody>\n",
              "    <tr>\n",
              "      <th>2019-01-02</th>\n",
              "      <td>173462</td>\n",
              "      <td>102000</td>\n",
              "      <td>NaN</td>\n",
              "      <td>NaN</td>\n",
              "      <td>NaN</td>\n",
              "    </tr>\n",
              "    <tr>\n",
              "      <th>2019-01-03</th>\n",
              "      <td>293989</td>\n",
              "      <td>102500</td>\n",
              "      <td>NaN</td>\n",
              "      <td>NaN</td>\n",
              "      <td>NaN</td>\n",
              "    </tr>\n",
              "    <tr>\n",
              "      <th>2019-01-04</th>\n",
              "      <td>251728</td>\n",
              "      <td>103500</td>\n",
              "      <td>NaN</td>\n",
              "      <td>NaN</td>\n",
              "      <td>NaN</td>\n",
              "    </tr>\n",
              "    <tr>\n",
              "      <th>2019-01-07</th>\n",
              "      <td>378153</td>\n",
              "      <td>103000</td>\n",
              "      <td>NaN</td>\n",
              "      <td>NaN</td>\n",
              "      <td>NaN</td>\n",
              "    </tr>\n",
              "    <tr>\n",
              "      <th>2019-01-08</th>\n",
              "      <td>450462</td>\n",
              "      <td>99900</td>\n",
              "      <td>102180.0</td>\n",
              "      <td>NaN</td>\n",
              "      <td>NaN</td>\n",
              "    </tr>\n",
              "    <tr>\n",
              "      <th>2019-01-09</th>\n",
              "      <td>357096</td>\n",
              "      <td>102000</td>\n",
              "      <td>102180.0</td>\n",
              "      <td>NaN</td>\n",
              "      <td>NaN</td>\n",
              "    </tr>\n",
              "    <tr>\n",
              "      <th>2019-01-10</th>\n",
              "      <td>291573</td>\n",
              "      <td>101000</td>\n",
              "      <td>101880.0</td>\n",
              "      <td>NaN</td>\n",
              "      <td>NaN</td>\n",
              "    </tr>\n",
              "    <tr>\n",
              "      <th>2019-01-11</th>\n",
              "      <td>180561</td>\n",
              "      <td>102000</td>\n",
              "      <td>101580.0</td>\n",
              "      <td>NaN</td>\n",
              "      <td>NaN</td>\n",
              "    </tr>\n",
              "    <tr>\n",
              "      <th>2019-01-14</th>\n",
              "      <td>243305</td>\n",
              "      <td>100000</td>\n",
              "      <td>100980.0</td>\n",
              "      <td>NaN</td>\n",
              "      <td>NaN</td>\n",
              "    </tr>\n",
              "    <tr>\n",
              "      <th>2019-01-15</th>\n",
              "      <td>381581</td>\n",
              "      <td>99900</td>\n",
              "      <td>100980.0</td>\n",
              "      <td>NaN</td>\n",
              "      <td>NaN</td>\n",
              "    </tr>\n",
              "    <tr>\n",
              "      <th>2019-01-16</th>\n",
              "      <td>217209</td>\n",
              "      <td>100000</td>\n",
              "      <td>100580.0</td>\n",
              "      <td>NaN</td>\n",
              "      <td>NaN</td>\n",
              "    </tr>\n",
              "    <tr>\n",
              "      <th>2019-01-17</th>\n",
              "      <td>434803</td>\n",
              "      <td>98500</td>\n",
              "      <td>100080.0</td>\n",
              "      <td>NaN</td>\n",
              "      <td>NaN</td>\n",
              "    </tr>\n",
              "    <tr>\n",
              "      <th>2019-01-18</th>\n",
              "      <td>291588</td>\n",
              "      <td>99600</td>\n",
              "      <td>99600.0</td>\n",
              "      <td>NaN</td>\n",
              "      <td>NaN</td>\n",
              "    </tr>\n",
              "    <tr>\n",
              "      <th>2019-01-21</th>\n",
              "      <td>252620</td>\n",
              "      <td>98800</td>\n",
              "      <td>99360.0</td>\n",
              "      <td>NaN</td>\n",
              "      <td>NaN</td>\n",
              "    </tr>\n",
              "    <tr>\n",
              "      <th>2019-01-22</th>\n",
              "      <td>448490</td>\n",
              "      <td>102000</td>\n",
              "      <td>99780.0</td>\n",
              "      <td>NaN</td>\n",
              "      <td>NaN</td>\n",
              "    </tr>\n",
              "    <tr>\n",
              "      <th>2019-01-23</th>\n",
              "      <td>360462</td>\n",
              "      <td>102500</td>\n",
              "      <td>100280.0</td>\n",
              "      <td>NaN</td>\n",
              "      <td>NaN</td>\n",
              "    </tr>\n",
              "    <tr>\n",
              "      <th>2019-01-24</th>\n",
              "      <td>282408</td>\n",
              "      <td>102000</td>\n",
              "      <td>100980.0</td>\n",
              "      <td>NaN</td>\n",
              "      <td>NaN</td>\n",
              "    </tr>\n",
              "    <tr>\n",
              "      <th>2019-01-25</th>\n",
              "      <td>355017</td>\n",
              "      <td>102500</td>\n",
              "      <td>101560.0</td>\n",
              "      <td>NaN</td>\n",
              "      <td>NaN</td>\n",
              "    </tr>\n",
              "    <tr>\n",
              "      <th>2019-01-28</th>\n",
              "      <td>275296</td>\n",
              "      <td>102000</td>\n",
              "      <td>102200.0</td>\n",
              "      <td>NaN</td>\n",
              "      <td>NaN</td>\n",
              "    </tr>\n",
              "    <tr>\n",
              "      <th>2019-01-29</th>\n",
              "      <td>225138</td>\n",
              "      <td>102000</td>\n",
              "      <td>102200.0</td>\n",
              "      <td>101285.0</td>\n",
              "      <td>915.0</td>\n",
              "    </tr>\n",
              "  </tbody>\n",
              "</table>\n",
              "</div>"
            ],
            "text/plain": [
              "            Volume   Close      MA_5     MA_20   diff\n",
              "Date                                                 \n",
              "2019-01-02  173462  102000       NaN       NaN    NaN\n",
              "2019-01-03  293989  102500       NaN       NaN    NaN\n",
              "2019-01-04  251728  103500       NaN       NaN    NaN\n",
              "2019-01-07  378153  103000       NaN       NaN    NaN\n",
              "2019-01-08  450462   99900  102180.0       NaN    NaN\n",
              "2019-01-09  357096  102000  102180.0       NaN    NaN\n",
              "2019-01-10  291573  101000  101880.0       NaN    NaN\n",
              "2019-01-11  180561  102000  101580.0       NaN    NaN\n",
              "2019-01-14  243305  100000  100980.0       NaN    NaN\n",
              "2019-01-15  381581   99900  100980.0       NaN    NaN\n",
              "2019-01-16  217209  100000  100580.0       NaN    NaN\n",
              "2019-01-17  434803   98500  100080.0       NaN    NaN\n",
              "2019-01-18  291588   99600   99600.0       NaN    NaN\n",
              "2019-01-21  252620   98800   99360.0       NaN    NaN\n",
              "2019-01-22  448490  102000   99780.0       NaN    NaN\n",
              "2019-01-23  360462  102500  100280.0       NaN    NaN\n",
              "2019-01-24  282408  102000  100980.0       NaN    NaN\n",
              "2019-01-25  355017  102500  101560.0       NaN    NaN\n",
              "2019-01-28  275296  102000  102200.0       NaN    NaN\n",
              "2019-01-29  225138  102000  102200.0  101285.0  915.0"
            ]
          },
          "metadata": {
            "tags": []
          },
          "execution_count": 44
        }
      ]
    },
    {
      "cell_type": "code",
      "metadata": {
        "id": "TsfYLYmDuAhU",
        "colab_type": "code",
        "outputId": "030fe8fb-d587-4de3-b6cc-d1869c360976",
        "colab": {
          "base_uri": "https://localhost:8080/",
          "height": 298
        }
      },
      "source": [
        "df_kakao[['Close', 'MA_5', 'MA_20']].plot()"
      ],
      "execution_count": 0,
      "outputs": [
        {
          "output_type": "execute_result",
          "data": {
            "text/plain": [
              "<matplotlib.axes._subplots.AxesSubplot at 0x7faf2cdeb748>"
            ]
          },
          "metadata": {
            "tags": []
          },
          "execution_count": 52
        },
        {
          "output_type": "display_data",
          "data": {
            "image/png": "[encoded data removed]",
            "text/plain": [
              "<Figure size 1152x288 with 1 Axes>"
            ]
          },
          "metadata": {
            "tags": []
          }
        }
      ]
    },
    {
      "cell_type": "markdown",
      "metadata": {
        "id": "ds2mDXQKuTWu",
        "colab_type": "text"
      },
      "source": [
        "## Golden Cross & Dead Cross"
      ]
    },
    {
      "cell_type": "code",
      "metadata": {
        "id": "7VSarYmrwmQO",
        "colab_type": "code",
        "outputId": "412f38d9-3840-47ae-e10c-9eeee8df5012",
        "colab": {
          "base_uri": "https://localhost:8080/",
          "height": 187
        }
      },
      "source": [
        "prev_key = prev_val = 0\n",
        "\n",
        "for key, val in df_kakao['diff'].iteritems():\n",
        "  if val == 0:\n",
        "    continue\n",
        "  if val * prev_val < 0 and val > prev_val:\n",
        "    print('[Golden]', key, val, df_kakao['Close'][key])\n",
        "  if val * prev_val < 0 and val < prev_val:\n",
        "    print('[Dead]', key, val, df_kakao['Close'][key])\n",
        "  prev_key, prev_val = key, val"
      ],
      "execution_count": 0,
      "outputs": [
        {
          "output_type": "stream",
          "text": [
            "[Dead] 2019-02-01 00:00:00 -265.0 99600\n",
            "[Golden] 2019-02-19 00:00:00 365.0 100000\n",
            "[Dead] 2019-02-25 00:00:00 -480.0 98300\n",
            "[Golden] 2019-02-26 00:00:00 145.0 103500\n",
            "[Dead] 2019-03-22 00:00:00 -705.0 104000\n",
            "[Golden] 2019-04-15 00:00:00 700.0 110500\n",
            "[Dead] 2019-05-23 00:00:00 -175.0 124000\n",
            "[Golden] 2019-06-14 00:00:00 1225.0 125000\n",
            "[Dead] 2019-06-20 00:00:00 -525.0 122000\n",
            "[Golden] 2019-06-24 00:00:00 450.0 126000\n"
          ],
          "name": "stdout"
        }
      ]
    },
    {
      "cell_type": "code",
      "metadata": {
        "id": "tFpsYloNxtDP",
        "colab_type": "code",
        "outputId": "a73ea314-ec3b-485c-9397-dd864fd72848",
        "colab": {
          "base_uri": "https://localhost:8080/",
          "height": 306
        }
      },
      "source": [
        "df_kakao[['Close', 'MA_5', 'MA_20']]['2019-06':].plot() # partial enlargement"
      ],
      "execution_count": 0,
      "outputs": [
        {
          "output_type": "execute_result",
          "data": {
            "text/plain": [
              "<matplotlib.axes._subplots.AxesSubplot at 0x7faf2cdeb5f8>"
            ]
          },
          "metadata": {
            "tags": []
          },
          "execution_count": 53
        },
        {
          "output_type": "display_data",
          "data": {
            "image/png": "[encoded data removed]",
            "text/plain": [
              "<Figure size 1152x288 with 1 Axes>"
            ]
          },
          "metadata": {
            "tags": []
          }
        }
      ]
    },
    {
      "cell_type": "code",
      "metadata": {
        "id": "_PR6llWh1idv",
        "colab_type": "code",
        "outputId": "ab37f3f9-7b6e-4f67-a3a6-0a4824ce4aa6",
        "colab": {
          "base_uri": "https://localhost:8080/",
          "height": 379
        }
      },
      "source": [
        "ax = df_kakao[['Close', 'MA_5', 'MA_20']].plot(figsize=(16, 6))\n",
        "\n",
        "prev_key = prev_val = 0\n",
        "\n",
        "for key, val in df_kakao['diff'].iteritems():\n",
        "  if val == 0:\n",
        "    continue\n",
        "    \n",
        "    if val * prev_val < 0 and val > prev_val:\n",
        "        ax.annotate('Golden', xy=(key, df_kakao['MA_20'][key]), xytext=(10,-30), \n",
        "                    textcoords='offset points', arrowprops=dict(arrowstyle='-|>'))\n",
        "    elif val * prev_val < 0 and val < prev_val:\n",
        "        ax.annotate('Dead', xy=(key, df_kakao['MA_20'][key]), xytext=(10,30), \n",
        "                    textcoords='offset points', arrowprops=dict(arrowstyle='-|>'))\n",
        "    \n",
        "    prev_key, prev_val = key, val\n"
      ],
      "execution_count": 0,
      "outputs": [
        {
          "output_type": "display_data",
          "data": {
            "image/png": "[encoded data removed]",
            "text/plain": [
              "<Figure size 1152x432 with 1 Axes>"
            ]
          },
          "metadata": {
            "tags": []
          }
        }
      ]
    },
    {
      "cell_type": "code",
      "metadata": {
        "id": "z8GVs0DU3_HC",
        "colab_type": "code",
        "colab": {}
      },
      "source": [
        ""
      ],
      "execution_count": 0,
      "outputs": []
    }
  ]
}
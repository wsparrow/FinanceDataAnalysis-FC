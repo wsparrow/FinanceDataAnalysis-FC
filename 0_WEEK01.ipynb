{
  "nbformat": 4,
  "nbformat_minor": 0,
  "metadata": {
    "colab": {
      "name": "0_WEEK01.ipynb",
      "version": "0.3.2",
      "provenance": []
    },
    "kernelspec": {
      "name": "python3",
      "display_name": "Python 3"
    }
  },
  "cells": [
    {
      "cell_type": "markdown",
      "metadata": {
        "id": "qb0uDRe3-0aA",
        "colab_type": "text"
      },
      "source": [
        "## 1. Jupyter Notebook with colab\n"
      ]
    },
    {
      "cell_type": "code",
      "metadata": {
        "id": "jaj_wdXz-w2I",
        "colab_type": "code",
        "colab": {}
      },
      "source": [
        "import pandas_datareader as pdr"
      ],
      "execution_count": 0,
      "outputs": []
    },
    {
      "cell_type": "code",
      "metadata": {
        "id": "Crw4qhseJxlk",
        "colab_type": "code",
        "outputId": "8f153b0f-ffa0-4025-a41d-6b7d9a382cfa",
        "colab": {
          "base_uri": "https://localhost:8080/",
          "height": 235
        }
      },
      "source": [
        "df = pdr.DataReader(\"DEXKOUS\", \"fred\", \"1995-01-01\", \"2019-12-30\")\n",
        "df.head()"
      ],
      "execution_count": 17,
      "outputs": [
        {
          "output_type": "execute_result",
          "data": {
            "text/html": [
              "<div>\n",
              "<style scoped>\n",
              "    .dataframe tbody tr th:only-of-type {\n",
              "        vertical-align: middle;\n",
              "    }\n",
              "\n",
              "    .dataframe tbody tr th {\n",
              "        vertical-align: top;\n",
              "    }\n",
              "\n",
              "    .dataframe thead th {\n",
              "        text-align: right;\n",
              "    }\n",
              "</style>\n",
              "<table border=\"1\" class=\"dataframe\">\n",
              "  <thead>\n",
              "    <tr style=\"text-align: right;\">\n",
              "      <th></th>\n",
              "      <th>DEXKOUS</th>\n",
              "    </tr>\n",
              "    <tr>\n",
              "      <th>DATE</th>\n",
              "      <th></th>\n",
              "    </tr>\n",
              "  </thead>\n",
              "  <tbody>\n",
              "    <tr>\n",
              "      <th>1995-01-02</th>\n",
              "      <td>NaN</td>\n",
              "    </tr>\n",
              "    <tr>\n",
              "      <th>1995-01-03</th>\n",
              "      <td>791.8</td>\n",
              "    </tr>\n",
              "    <tr>\n",
              "      <th>1995-01-04</th>\n",
              "      <td>791.6</td>\n",
              "    </tr>\n",
              "    <tr>\n",
              "      <th>1995-01-05</th>\n",
              "      <td>792.4</td>\n",
              "    </tr>\n",
              "    <tr>\n",
              "      <th>1995-01-06</th>\n",
              "      <td>792.7</td>\n",
              "    </tr>\n",
              "  </tbody>\n",
              "</table>\n",
              "</div>"
            ],
            "text/plain": [
              "            DEXKOUS\n",
              "DATE               \n",
              "1995-01-02      NaN\n",
              "1995-01-03    791.8\n",
              "1995-01-04    791.6\n",
              "1995-01-05    792.4\n",
              "1995-01-06    792.7"
            ]
          },
          "metadata": {
            "tags": []
          },
          "execution_count": 17
        }
      ]
    },
    {
      "cell_type": "code",
      "metadata": {
        "id": "7Nv8nukpKL8F",
        "colab_type": "code",
        "outputId": "8ae398fe-dcea-4bde-9c37-0307b1e416de",
        "colab": {
          "base_uri": "https://localhost:8080/",
          "height": 235
        }
      },
      "source": [
        "df.tail()"
      ],
      "execution_count": 5,
      "outputs": [
        {
          "output_type": "execute_result",
          "data": {
            "text/html": [
              "<div>\n",
              "<style scoped>\n",
              "    .dataframe tbody tr th:only-of-type {\n",
              "        vertical-align: middle;\n",
              "    }\n",
              "\n",
              "    .dataframe tbody tr th {\n",
              "        vertical-align: top;\n",
              "    }\n",
              "\n",
              "    .dataframe thead th {\n",
              "        text-align: right;\n",
              "    }\n",
              "</style>\n",
              "<table border=\"1\" class=\"dataframe\">\n",
              "  <thead>\n",
              "    <tr style=\"text-align: right;\">\n",
              "      <th></th>\n",
              "      <th>DEXKOUS</th>\n",
              "    </tr>\n",
              "    <tr>\n",
              "      <th>DATE</th>\n",
              "      <th></th>\n",
              "    </tr>\n",
              "  </thead>\n",
              "  <tbody>\n",
              "    <tr>\n",
              "      <th>2019-06-10</th>\n",
              "      <td>1185.01</td>\n",
              "    </tr>\n",
              "    <tr>\n",
              "      <th>2019-06-11</th>\n",
              "      <td>1178.88</td>\n",
              "    </tr>\n",
              "    <tr>\n",
              "      <th>2019-06-12</th>\n",
              "      <td>1182.82</td>\n",
              "    </tr>\n",
              "    <tr>\n",
              "      <th>2019-06-13</th>\n",
              "      <td>1183.23</td>\n",
              "    </tr>\n",
              "    <tr>\n",
              "      <th>2019-06-14</th>\n",
              "      <td>1184.70</td>\n",
              "    </tr>\n",
              "  </tbody>\n",
              "</table>\n",
              "</div>"
            ],
            "text/plain": [
              "            DEXKOUS\n",
              "DATE               \n",
              "2019-06-10  1185.01\n",
              "2019-06-11  1178.88\n",
              "2019-06-12  1182.82\n",
              "2019-06-13  1183.23\n",
              "2019-06-14  1184.70"
            ]
          },
          "metadata": {
            "tags": []
          },
          "execution_count": 5
        }
      ]
    },
    {
      "cell_type": "code",
      "metadata": {
        "id": "0jkGB8b2K7d0",
        "colab_type": "code",
        "outputId": "be4f36dc-8bad-4c23-8eff-c06de340c2f7",
        "colab": {
          "base_uri": "https://localhost:8080/",
          "height": 300
        }
      },
      "source": [
        "df.plot()"
      ],
      "execution_count": 6,
      "outputs": [
        {
          "output_type": "execute_result",
          "data": {
            "text/plain": [
              "<matplotlib.axes._subplots.AxesSubplot at 0x7f11edd09898>"
            ]
          },
          "metadata": {
            "tags": []
          },
          "execution_count": 6
        },
        {
          "output_type": "display_data",
          "data": {
            "image/png": "[encoded data removed]",
            "text/plain": [
              "<Figure size 432x288 with 1 Axes>"
            ]
          },
          "metadata": {
            "tags": []
          }
        }
      ]
    },
    {
      "cell_type": "code",
      "metadata": {
        "id": "XouK2E48K-xC",
        "colab_type": "code",
        "colab": {}
      },
      "source": [
        "df.to_excel(\"exchange rate.xlsx\")"
      ],
      "execution_count": 0,
      "outputs": []
    },
    {
      "cell_type": "code",
      "metadata": {
        "id": "KoyEv5TQL47P",
        "colab_type": "code",
        "outputId": "8a29b408-be0b-45bf-a465-dbaa0438be84",
        "colab": {
          "base_uri": "https://localhost:8080/",
          "height": 119
        }
      },
      "source": [
        "!ls -al"
      ],
      "execution_count": 9,
      "outputs": [
        {
          "output_type": "stream",
          "text": [
            "total 112\n",
            "drwxr-xr-x 1 root root  4096 Jun 23 10:59  .\n",
            "drwxr-xr-x 1 root root  4096 Jun 23 10:56  ..\n",
            "drwxr-xr-x 1 root root  4096 Jun 18 16:14  .config\n",
            "-rw-r--r-- 1 root root 97108 Jun 23 11:00 'exchange rate.xlsx'\n",
            "drwxr-xr-x 1 root root  4096 Jun 18 16:14  sample_data\n"
          ],
          "name": "stdout"
        }
      ]
    },
    {
      "cell_type": "code",
      "metadata": {
        "id": "9jxHKpFKMYgX",
        "colab_type": "code",
        "colab": {}
      },
      "source": [
        "from google.colab import files\n",
        "\n",
        "files.download(\"exchange rate.xlsx\") # code sniffet use"
      ],
      "execution_count": 0,
      "outputs": []
    },
    {
      "cell_type": "markdown",
      "metadata": {
        "id": "28Mknxs__6re",
        "colab_type": "text"
      },
      "source": [
        "## 2. Jupyter Notebook Markdown"
      ]
    },
    {
      "cell_type": "markdown",
      "metadata": {
        "id": "7D3WAPCCNU_Q",
        "colab_type": "text"
      },
      "source": [
        "# Title\n",
        "## Title\n",
        "### Title\n",
        "\n",
        "category\n",
        "* category1\n",
        "* category2\n",
        "* category3\n",
        "\n",
        "numbering\n",
        "1. category\n",
        "2. category\n",
        "3. category\n",
        "\n",
        "<img width = 100%\n",
        "     src=\"https://www.virtualvirginia.org/wp-content/uploads/2019/03/summer-19-site-banner.png\">"
      ]
    },
    {
      "cell_type": "markdown",
      "metadata": {
        "id": "ZiTpHsyQAvjd",
        "colab_type": "text"
      },
      "source": [
        "## 3. Google Search Counter"
      ]
    },
    {
      "cell_type": "code",
      "metadata": {
        "id": "jxMngF5vNiy-",
        "colab_type": "code",
        "colab": {
          "base_uri": "https://localhost:8080/",
          "height": 326
        },
        "outputId": "40e3a570-4a9a-47bf-b493-e96758fc79b7"
      },
      "source": [
        "!pip install finance-datareader"
      ],
      "execution_count": 11,
      "outputs": [
        {
          "output_type": "stream",
          "text": [
            "Collecting finance-datareader\n",
            "  Downloading https://files.pythonhosted.org/packages/a7/46/d825227eb3c7cd0005b1b1270a391dfb2fd563af0ad373a6a7727c0e4e1e/finance_datareader-0.7.2-py3-none-any.whl\n",
            "Requirement already satisfied: requests>=2.3.0 in /usr/local/lib/python3.6/dist-packages (from finance-datareader) (2.21.0)\n",
            "Requirement already satisfied: lxml in /usr/local/lib/python3.6/dist-packages (from finance-datareader) (4.2.6)\n",
            "Requirement already satisfied: pandas>=0.19.2 in /usr/local/lib/python3.6/dist-packages (from finance-datareader) (0.24.2)\n",
            "Collecting requests-file (from finance-datareader)\n",
            "  Downloading https://files.pythonhosted.org/packages/23/9c/6e63c23c39e53d3df41c77a3d05a49a42c4e1383a6d2a5e3233161b89dbf/requests_file-1.4.3-py2.py3-none-any.whl\n",
            "Requirement already satisfied: chardet<3.1.0,>=3.0.2 in /usr/local/lib/python3.6/dist-packages (from requests>=2.3.0->finance-datareader) (3.0.4)\n",
            "Requirement already satisfied: idna<2.9,>=2.5 in /usr/local/lib/python3.6/dist-packages (from requests>=2.3.0->finance-datareader) (2.8)\n",
            "Requirement already satisfied: urllib3<1.25,>=1.21.1 in /usr/local/lib/python3.6/dist-packages (from requests>=2.3.0->finance-datareader) (1.24.3)\n",
            "Requirement already satisfied: certifi>=2017.4.17 in /usr/local/lib/python3.6/dist-packages (from requests>=2.3.0->finance-datareader) (2019.3.9)\n",
            "Requirement already satisfied: python-dateutil>=2.5.0 in /usr/local/lib/python3.6/dist-packages (from pandas>=0.19.2->finance-datareader) (2.5.3)\n",
            "Requirement already satisfied: numpy>=1.12.0 in /usr/local/lib/python3.6/dist-packages (from pandas>=0.19.2->finance-datareader) (1.16.4)\n",
            "Requirement already satisfied: pytz>=2011k in /usr/local/lib/python3.6/dist-packages (from pandas>=0.19.2->finance-datareader) (2018.9)\n",
            "Requirement already satisfied: six in /usr/local/lib/python3.6/dist-packages (from requests-file->finance-datareader) (1.12.0)\n",
            "Installing collected packages: requests-file, finance-datareader\n",
            "Successfully installed finance-datareader-0.7.2 requests-file-1.4.3\n"
          ],
          "name": "stdout"
        }
      ]
    },
    {
      "cell_type": "code",
      "metadata": {
        "id": "l0018Ys9OrZj",
        "colab_type": "code",
        "colab": {}
      },
      "source": [
        "import FinanceDataReader as fdr"
      ],
      "execution_count": 0,
      "outputs": []
    },
    {
      "cell_type": "code",
      "metadata": {
        "id": "H32CEGNgO_C5",
        "colab_type": "code",
        "colab": {
          "base_uri": "https://localhost:8080/",
          "height": 235
        },
        "outputId": "fcc0703e-82bc-4d9c-b2d7-d16afbd7dc78"
      },
      "source": [
        "df = fdr.DataReader(\"KS11\", \"2015-01-01\", \"2019-06-23\")\n",
        "df.head()"
      ],
      "execution_count": 20,
      "outputs": [
        {
          "output_type": "execute_result",
          "data": {
            "text/html": [
              "<div>\n",
              "<style scoped>\n",
              "    .dataframe tbody tr th:only-of-type {\n",
              "        vertical-align: middle;\n",
              "    }\n",
              "\n",
              "    .dataframe tbody tr th {\n",
              "        vertical-align: top;\n",
              "    }\n",
              "\n",
              "    .dataframe thead th {\n",
              "        text-align: right;\n",
              "    }\n",
              "</style>\n",
              "<table border=\"1\" class=\"dataframe\">\n",
              "  <thead>\n",
              "    <tr style=\"text-align: right;\">\n",
              "      <th></th>\n",
              "      <th>Close</th>\n",
              "      <th>Open</th>\n",
              "      <th>High</th>\n",
              "      <th>Low</th>\n",
              "      <th>Volume</th>\n",
              "      <th>Change</th>\n",
              "    </tr>\n",
              "    <tr>\n",
              "      <th>Date</th>\n",
              "      <th></th>\n",
              "      <th></th>\n",
              "      <th></th>\n",
              "      <th></th>\n",
              "      <th></th>\n",
              "      <th></th>\n",
              "    </tr>\n",
              "  </thead>\n",
              "  <tbody>\n",
              "    <tr>\n",
              "      <th>2015-01-02</th>\n",
              "      <td>1926.44</td>\n",
              "      <td>1914.24</td>\n",
              "      <td>1929.15</td>\n",
              "      <td>1909.67</td>\n",
              "      <td>258780000.0</td>\n",
              "      <td>0.0057</td>\n",
              "    </tr>\n",
              "    <tr>\n",
              "      <th>2015-01-05</th>\n",
              "      <td>1915.75</td>\n",
              "      <td>1921.96</td>\n",
              "      <td>1921.96</td>\n",
              "      <td>1903.37</td>\n",
              "      <td>313440000.0</td>\n",
              "      <td>-0.0055</td>\n",
              "    </tr>\n",
              "    <tr>\n",
              "      <th>2015-01-06</th>\n",
              "      <td>1882.45</td>\n",
              "      <td>1895.48</td>\n",
              "      <td>1900.02</td>\n",
              "      <td>1877.38</td>\n",
              "      <td>303690000.0</td>\n",
              "      <td>-0.0174</td>\n",
              "    </tr>\n",
              "    <tr>\n",
              "      <th>2015-01-07</th>\n",
              "      <td>1883.83</td>\n",
              "      <td>1878.90</td>\n",
              "      <td>1887.60</td>\n",
              "      <td>1876.27</td>\n",
              "      <td>280510000.0</td>\n",
              "      <td>0.0007</td>\n",
              "    </tr>\n",
              "    <tr>\n",
              "      <th>2015-01-08</th>\n",
              "      <td>1904.65</td>\n",
              "      <td>1895.85</td>\n",
              "      <td>1907.23</td>\n",
              "      <td>1891.77</td>\n",
              "      <td>262210000.0</td>\n",
              "      <td>0.0111</td>\n",
              "    </tr>\n",
              "  </tbody>\n",
              "</table>\n",
              "</div>"
            ],
            "text/plain": [
              "              Close     Open     High      Low       Volume  Change\n",
              "Date                                                               \n",
              "2015-01-02  1926.44  1914.24  1929.15  1909.67  258780000.0  0.0057\n",
              "2015-01-05  1915.75  1921.96  1921.96  1903.37  313440000.0 -0.0055\n",
              "2015-01-06  1882.45  1895.48  1900.02  1877.38  303690000.0 -0.0174\n",
              "2015-01-07  1883.83  1878.90  1887.60  1876.27  280510000.0  0.0007\n",
              "2015-01-08  1904.65  1895.85  1907.23  1891.77  262210000.0  0.0111"
            ]
          },
          "metadata": {
            "tags": []
          },
          "execution_count": 20
        }
      ]
    },
    {
      "cell_type": "code",
      "metadata": {
        "id": "wLEmulT6PRYS",
        "colab_type": "code",
        "outputId": "fe3b4dfc-8f98-4272-c614-7cd7dae9976d",
        "colab": {
          "base_uri": "https://localhost:8080/",
          "height": 305
        }
      },
      "source": [
        "df.plot() # too many plot"
      ],
      "execution_count": 15,
      "outputs": [
        {
          "output_type": "execute_result",
          "data": {
            "text/plain": [
              "<matplotlib.axes._subplots.AxesSubplot at 0x7f120e699940>"
            ]
          },
          "metadata": {
            "tags": []
          },
          "execution_count": 15
        },
        {
          "output_type": "display_data",
          "data": {
            "image/png": "[encoded data removed]",
            "text/plain": [
              "<Figure size 432x288 with 1 Axes>"
            ]
          },
          "metadata": {
            "tags": []
          }
        }
      ]
    },
    {
      "cell_type": "code",
      "metadata": {
        "id": "vMELceqnPhHT",
        "colab_type": "code",
        "outputId": "e0cf9332-a362-44ea-bbc4-562ad3c0706c",
        "colab": {
          "base_uri": "https://localhost:8080/",
          "height": 298
        }
      },
      "source": [
        "df[\"Close\"].plot()"
      ],
      "execution_count": 21,
      "outputs": [
        {
          "output_type": "execute_result",
          "data": {
            "text/plain": [
              "<matplotlib.axes._subplots.AxesSubplot at 0x7f11e98212e8>"
            ]
          },
          "metadata": {
            "tags": []
          },
          "execution_count": 21
        },
        {
          "output_type": "display_data",
          "data": {
            "image/png": "[encoded data removed]",
            "text/plain": [
              "<Figure size 432x288 with 1 Axes>"
            ]
          },
          "metadata": {
            "tags": []
          }
        }
      ]
    },
    {
      "cell_type": "code",
      "metadata": {
        "id": "NoJLIS8XU7YZ",
        "colab_type": "code",
        "colab": {}
      },
      "source": [
        ""
      ],
      "execution_count": 0,
      "outputs": []
    },
    {
      "cell_type": "code",
      "metadata": {
        "id": "2-hukZkEVCh_",
        "colab_type": "code",
        "colab": {}
      },
      "source": [
        "import requests\n",
        "\n",
        "from bs4 import BeautifulSoup"
      ],
      "execution_count": 0,
      "outputs": []
    },
    {
      "cell_type": "code",
      "metadata": {
        "id": "6FzBgui9Xa2-",
        "colab_type": "code",
        "outputId": "021d6115-503f-4b5b-8729-a9c6859b0581",
        "colab": {
          "base_uri": "https://localhost:8080/",
          "height": 34
        }
      },
      "source": [
        "url = \"https://www.google.com/search?q=finance\"\n",
        "header={\"user-agent\": \"Mozilla/5.0 (Macintosh; Intel Mac OS X 10_14_4) AppleWebKit/537.36 (KHTML, like Gecko) Chrome/74.0.3729.169 Safari/537.36\"}\n",
        "\n",
        "r = requests.get(url, headers=header)\n",
        "soup = BeautifulSoup(r.text)\n",
        "div = soup.find(\"div\", attrs={\"id\":\"resultStats\"})\n",
        "\n",
        "div"
      ],
      "execution_count": 24,
      "outputs": [
        {
          "output_type": "execute_result",
          "data": {
            "text/plain": [
              "<div id=\"resultStats\">About 7,100,000,000 results<nobr> (0.56 seconds) </nobr></div>"
            ]
          },
          "metadata": {
            "tags": []
          },
          "execution_count": 24
        }
      ]
    },
    {
      "cell_type": "markdown",
      "metadata": {
        "id": "ecxB6DFbCr22",
        "colab_type": "text"
      },
      "source": [
        "### Pre processing"
      ]
    },
    {
      "cell_type": "code",
      "metadata": {
        "id": "NhyYX0rjX3Pr",
        "colab_type": "code",
        "outputId": "a2bdbf6c-3056-4865-9093-46cb2a6b4a77",
        "colab": {
          "base_uri": "https://localhost:8080/",
          "height": 34
        }
      },
      "source": [
        "div.text"
      ],
      "execution_count": 25,
      "outputs": [
        {
          "output_type": "execute_result",
          "data": {
            "text/plain": [
              "'About 7,100,000,000 results (0.56 seconds)\\xa0'"
            ]
          },
          "metadata": {
            "tags": []
          },
          "execution_count": 25
        }
      ]
    },
    {
      "cell_type": "code",
      "metadata": {
        "id": "6ffTQb_narYA",
        "colab_type": "code",
        "outputId": "4713ebe3-eef7-4d4b-9b9e-51806e1ed77e",
        "colab": {
          "base_uri": "https://localhost:8080/",
          "height": 34
        }
      },
      "source": [
        "div.text.split(\" \")"
      ],
      "execution_count": 31,
      "outputs": [
        {
          "output_type": "execute_result",
          "data": {
            "text/plain": [
              "['About', '7,100,000,000', 'results', '(0.56', 'seconds)\\xa0']"
            ]
          },
          "metadata": {
            "tags": []
          },
          "execution_count": 31
        }
      ]
    },
    {
      "cell_type": "code",
      "metadata": {
        "id": "P5lY32ScbAv2",
        "colab_type": "code",
        "outputId": "63d8c801-e0bd-42c4-b104-7097abfd5898",
        "colab": {
          "base_uri": "https://localhost:8080/",
          "height": 34
        }
      },
      "source": [
        "div.text.split(\" \")[1]"
      ],
      "execution_count": 32,
      "outputs": [
        {
          "output_type": "execute_result",
          "data": {
            "text/plain": [
              "'7,100,000,000'"
            ]
          },
          "metadata": {
            "tags": []
          },
          "execution_count": 32
        }
      ]
    },
    {
      "cell_type": "code",
      "metadata": {
        "id": "dazuZ3zabLHz",
        "colab_type": "code",
        "outputId": "cec1df27-7570-42ce-824c-772f19bdba5f",
        "colab": {
          "base_uri": "https://localhost:8080/",
          "height": 34
        }
      },
      "source": [
        "div.text.split(\" \")[1].replace(\",\", \"\")"
      ],
      "execution_count": 33,
      "outputs": [
        {
          "output_type": "execute_result",
          "data": {
            "text/plain": [
              "'7100000000'"
            ]
          },
          "metadata": {
            "tags": []
          },
          "execution_count": 33
        }
      ]
    },
    {
      "cell_type": "code",
      "metadata": {
        "id": "su9VD8s7bYFO",
        "colab_type": "code",
        "outputId": "053a8be2-238d-4e06-9782-106079a458e1",
        "colab": {
          "base_uri": "https://localhost:8080/",
          "height": 34
        }
      },
      "source": [
        "float(div.text.split(\" \")[1].replace(\",\", \"\"))"
      ],
      "execution_count": 34,
      "outputs": [
        {
          "output_type": "execute_result",
          "data": {
            "text/plain": [
              "7100000000.0"
            ]
          },
          "metadata": {
            "tags": []
          },
          "execution_count": 34
        }
      ]
    },
    {
      "cell_type": "markdown",
      "metadata": {
        "id": "X1UQsjWbbq2t",
        "colab_type": "text"
      },
      "source": [
        "### Make Function"
      ]
    },
    {
      "cell_type": "code",
      "metadata": {
        "id": "WyGHZ_7Mbs6Z",
        "colab_type": "code",
        "colab": {}
      },
      "source": [
        "import requests\n",
        "from bs4 import BeautifulSoup\n",
        "\n",
        "def get_google_counter(keyword) :\n",
        "  \n",
        "  url = \"https://www.google.com/search?q=\" + keyword\n",
        "  header={\"user-agent\": \"Mozilla/5.0 (Macintosh; Intel Mac OS X 10_14_4) AppleWebKit/537.36 (KHTML, like Gecko) Chrome/74.0.3729.169 Safari/537.36\"}\n",
        "  \n",
        "  r = requests.get(url, headers=header)\n",
        "  soup = BeautifulSoup(r.text)\n",
        "  div = soup.find(\"div\", attrs={\"id\":\"resultStats\"})\n",
        "  \n",
        "  return float(div.text.split(\" \")[1].replace(\",\", \"\")) "
      ],
      "execution_count": 0,
      "outputs": []
    },
    {
      "cell_type": "code",
      "metadata": {
        "id": "B7lufCnUcG4B",
        "colab_type": "code",
        "outputId": "d10b5f9e-3af8-4559-b5e3-7ccad2cb628b",
        "colab": {
          "base_uri": "https://localhost:8080/",
          "height": 34
        }
      },
      "source": [
        "get_google_counter(\"samsung\")"
      ],
      "execution_count": 38,
      "outputs": [
        {
          "output_type": "execute_result",
          "data": {
            "text/plain": [
              "2460000000.0"
            ]
          },
          "metadata": {
            "tags": []
          },
          "execution_count": 38
        }
      ]
    },
    {
      "cell_type": "code",
      "metadata": {
        "id": "8hGlBGDccMOD",
        "colab_type": "code",
        "outputId": "5029fc1d-af9f-4b29-bf9c-2ff56ccd9532",
        "colab": {
          "base_uri": "https://localhost:8080/",
          "height": 34
        }
      },
      "source": [
        "get_google_counter(\"lg\")"
      ],
      "execution_count": 39,
      "outputs": [
        {
          "output_type": "execute_result",
          "data": {
            "text/plain": [
              "1730000000.0"
            ]
          },
          "metadata": {
            "tags": []
          },
          "execution_count": 39
        }
      ]
    },
    {
      "cell_type": "markdown",
      "metadata": {
        "id": "CK7Lf3T1DZZi",
        "colab_type": "text"
      },
      "source": [
        "## 4. Naver Stock"
      ]
    },
    {
      "cell_type": "code",
      "metadata": {
        "id": "WRVsqHd9De_i",
        "colab_type": "code",
        "colab": {}
      },
      "source": [
        "def naver_factor(code):\n",
        "  url = \"https://finance.naver.com/item/main.nhn?code=\" + code\n",
        "  r = requests.get(url)\n",
        "  soup = BeautifulSoup(r.text)\n",
        "\n",
        "  per = float(soup.find(\"em\", id = \"_per\").text)\n",
        "  pbr = float(soup.find(\"em\", id = \"_pbr\").text)\n",
        "  \n",
        "  return per, pbr"
      ],
      "execution_count": 0,
      "outputs": []
    },
    {
      "cell_type": "code",
      "metadata": {
        "id": "JvzGkjfyF0gn",
        "colab_type": "code",
        "colab": {
          "base_uri": "https://localhost:8080/",
          "height": 34
        },
        "outputId": "84b81c82-d917-4a81-c76a-612a0bde031b"
      },
      "source": [
        "naver_factor(\"005930\") ## 005930 = samsung"
      ],
      "execution_count": 45,
      "outputs": [
        {
          "output_type": "execute_result",
          "data": {
            "text/plain": [
              "(7.59, 1.29)"
            ]
          },
          "metadata": {
            "tags": []
          },
          "execution_count": 45
        }
      ]
    },
    {
      "cell_type": "code",
      "metadata": {
        "id": "QtlbEGRjGLE7",
        "colab_type": "code",
        "colab": {
          "base_uri": "https://localhost:8080/",
          "height": 34
        },
        "outputId": "331a8bd8-cb55-4d71-d71f-4384999ce472"
      },
      "source": [
        "per, pbr = naver_factor(\"005930\")\n",
        "pbr"
      ],
      "execution_count": 47,
      "outputs": [
        {
          "output_type": "execute_result",
          "data": {
            "text/plain": [
              "1.29"
            ]
          },
          "metadata": {
            "tags": []
          },
          "execution_count": 47
        }
      ]
    },
    {
      "cell_type": "code",
      "metadata": {
        "id": "SDTrZbjEGha0",
        "colab_type": "code",
        "colab": {}
      },
      "source": [
        ""
      ],
      "execution_count": 0,
      "outputs": []
    }
  ]
}